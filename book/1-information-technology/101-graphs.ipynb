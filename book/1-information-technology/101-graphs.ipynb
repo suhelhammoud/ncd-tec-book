{
 "cells": [
  {
   "cell_type": "markdown",
   "metadata": {},
   "source": [
    "# Graphs\n",
    "\n",
    "\n",
    "introduction\n",
    "\n",
    "## Graph Representation\n",
    "\n",
    "### Using Adjacency Matrix\n",
    "using adjacency matrix\n",
    "\n",
    "### Using Adjacency List\n",
    "using adjacency lists"
   ]
  }
 ],
 "metadata": {
  "language_info": {
   "name": "python"
  }
 },
 "nbformat": 4,
 "nbformat_minor": 2
}
