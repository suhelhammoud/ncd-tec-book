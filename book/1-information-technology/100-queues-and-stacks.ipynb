{
 "cells": [
  {
   "cell_type": "markdown",
   "metadata": {},
   "source": [
    "# Stack Data Structure:\n",
    "\n",
    "A **Stack** is a linear data structure that follows the **LIFO** (Last In First Out) principle. This means the last element added to the stack will be the first to be removed. You can think of it as a pile of plates; the last plate placed on the stack is the first one you pick up.\n",
    "\n",
    "## Basic Operations on a Stack\n",
    "\n",
    "1. **Push**: Adds an element to the top of the stack.\n",
    "2. **Pop**: Removes the top element from the stack.\n",
    "3. **Peek/Top**: Returns the top element without removing it.\n",
    "4. **isEmpty**: Checks whether the stack is empty.\n",
    "5. **isFull** (optional, if a stack has a limited size): Checks whether the stack is full.\n",
    "\n",
    "## Visual Representation of a Stack\n",
    "\n",
    "Here’s a simple diagram of how a stack works:\n",
    "\n",
    "### 1. **Push Operation**\n",
    "\n",
    "Imagine we have an empty stack, and we push the elements `5`, `10`, and `15` onto the stack:\n",
    "\n",
    "```\n",
    "Initial Stack: []\n",
    "\n",
    "Push 5 → [5]\n",
    "Push 10 → [10, 5]\n",
    "Push 15 → [15, 10, 5]\n",
    "```\n",
    "\n",
    "The stack now looks like this:\n",
    "\n",
    "```\n",
    "   -----\n",
    "   | 15 | ← Top\n",
    "   -----\n",
    "   | 10 |\n",
    "   -----\n",
    "   |  5 |\n",
    "   -----\n",
    "```\n",
    "\n",
    "The last element pushed (`15`) is on top of the stack.\n",
    "\n",
    "### 2. **Pop Operation**\n",
    "\n",
    "When we pop an element from the stack, we remove the top element. In this case, the stack will look like this after each pop:\n",
    "\n",
    "- **Pop**:\n",
    "\n",
    "```\n",
    "   -----\n",
    "   | 10 | ← Top\n",
    "   -----\n",
    "   |  5 |\n",
    "   -----\n",
    "```\n",
    "\n",
    "Now, the top element is `10`.\n",
    "\n",
    "### 3. **Peek/Top Operation**\n",
    "\n",
    "Peek simply allows us to look at the top element of the stack without removing it.\n",
    "\n",
    "- **Peek**: The current top element is `10`.\n",
    "\n",
    "### 4. **isEmpty and isFull**\n",
    "\n",
    "- **isEmpty**: If the stack is empty (no elements), the function returns `true`. Otherwise, it returns `false`.\n",
    "\n",
    "- **isFull**: If the stack is full (in case of a bounded stack), this function returns `true`. For an unbounded stack, this operation is typically unnecessary.\n",
    "\n",
    "## Stack Implementation (in Pseudocode)\n",
    "\n",
    "Here is a basic implementation of a stack in pseudocode:\n"
   ]
  },
  {
   "cell_type": "markdown",
   "metadata": {},
   "source": [
    "\n",
    "### Example Usage:\n"
   ]
  },
  {
   "cell_type": "code",
   "execution_count": null,
   "metadata": {
    "vscode": {
     "languageId": "plaintext"
    }
   },
   "outputs": [],
   "source": [
    "class Stack:\n",
    "    def __init__(self):\n",
    "        self.stack = []\n",
    "\n",
    "    def push(self, item):\n",
    "        self.stack.append(item)\n",
    "\n",
    "    def pop(self):\n",
    "        if not self.is_empty():\n",
    "            return self.stack.pop()\n",
    "        else:\n",
    "            return \"Stack is empty\"\n",
    "\n",
    "    def peek(self):\n",
    "        if not self.is_empty():\n",
    "            return self.stack[-1]\n",
    "        else:\n",
    "            return \"Stack is empty\"\n",
    "\n",
    "    def is_empty(self):\n",
    "        return len(self.stack) == 0"
   ]
  },
  {
   "cell_type": "code",
   "execution_count": null,
   "metadata": {
    "vscode": {
     "languageId": "plaintext"
    }
   },
   "outputs": [],
   "source": [
    "s = Stack()\n",
    "s.push(10)\n",
    "s.push(20)\n",
    "print(s.peek())  # Output: 20\n",
    "s.pop()          # Removes 20\n",
    "print(s.peek())  # Output: 10"
   ]
  },
  {
   "cell_type": "markdown",
   "metadata": {},
   "source": [
    "\n",
    "## Applications of Stack\n",
    "\n",
    "Stacks are used in various applications such as:\n",
    "\n",
    "1. **Expression Evaluation** (e.g., converting infix to postfix)\n",
    "2. **Undo Mechanism** in text editors\n",
    "3. **Function Call Stack** in programming languages\n",
    "4. **Backtracking Algorithms** (like DFS, recursion)\n",
    "\n",
    "---\n",
    "\n",
    "### Illustrative Images\n",
    "\n",
    "Let’s include images to help visualize the process of stack operations.\n",
    "\n",
    "1. **Empty Stack**:\n",
    "![Empty Stack](https://via.placeholder.com/150x150.png?text=Empty+Stack)\n",
    "\n",
    "2. **Pushing Elements to the Stack**:\n",
    "![Push Elements](https://via.placeholder.com/150x150.png?text=Pushing+to+Stack)\n",
    "\n",
    "3. **Popping Elements from the Stack**:\n",
    "![Pop Elements](https://via.placeholder.com/150x150.png?text=Popping+from+Stack)\n",
    "\n",
    "---\n",
    "\n",
    "These images show the stack growing as we push elements and shrinking as we pop them, following the LIFO principle.\n",
    "\n",
    "---\n",
    "\n",
    "This markdown tutorial should give you a good understanding of how stacks work!"
   ]
  },
  {
   "cell_type": "markdown",
   "metadata": {},
   "source": [
    "Introduction"
   ]
  },
  {
   "cell_type": "markdown",
   "metadata": {},
   "source": [
    "## Queue\n",
    "\n",
    "Queue is "
   ]
  },
  {
   "cell_type": "markdown",
   "metadata": {},
   "source": []
  },
  {
   "cell_type": "markdown",
   "metadata": {},
   "source": [
    "## Stack\n",
    "\n",
    "\n",
    "```{note}\n",
    "Here is a note\n",
    "```\n",
    "\n",
    "\n",
    "\n",
    "## Citations\n",
    "\n",
    "You can also cite references that are stored in a `bibtex` file. For example,\n",
    "the following syntax: `` {cite}`holdgraf_evidence_2014` `` will render like\n",
    "this: {cite}`holdgraf_evidence_2014`.\n",
    "\n",
    "Moreover, you can insert a bibliography into your page with this syntax:\n",
    "The `{bibliography}` directive must be used for all the `{cite}` roles to\n",
    "render properly.\n",
    "For example, if the references for your book are stored in `references.bib`,\n",
    "then the bibliography is inserted with:\n",
    "\n",
    "```{bibliography}\n",
    "```"
   ]
  }
 ],
 "metadata": {
  "language_info": {
   "name": "python"
  }
 },
 "nbformat": 4,
 "nbformat_minor": 2
}
