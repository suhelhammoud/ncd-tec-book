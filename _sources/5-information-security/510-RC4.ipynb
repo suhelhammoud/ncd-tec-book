{
 "cells": [
  {
   "cell_type": "code",
   "execution_count": null,
   "id": "0da8a516",
   "metadata": {},
   "outputs": [],
   "source": [
    "# run first to install dependencies\n",
    "%pip install ncdtecbook "
   ]
  },
  {
   "cell_type": "markdown",
   "id": "ce7375fb",
   "metadata": {},
   "source": [
    "# RC4 Encryption Algorithm\n",
    "This Jupyter Notebook demonstrates the implementation of the RC4 (Rivest Cipher 4) algorithm, a symmetric stream cipher.\n",
    "\n",
    "**Steps:**\n",
    "1. **Key-Scheduling Algorithm (KSA)**: Initializes the permutation of the array `S`.\n",
    "2. **Pseudo-Random Generation Algorithm (PRGA)**: Generates the keystream.\n",
    "3. **Encryption & Decryption**: \n",
    " - Encryption: CT = PT XOR Ks.    \n",
    " - Decryption: PT = CT XOR Ks.\n",
    " \\\n",
    " (CT: Ciphertext, PT: Plaintext, Ks: Keystream)"
   ]
  },
  {
   "cell_type": "markdown",
   "id": "f15b264a",
   "metadata": {},
   "source": [
    "![alt](../images/isec/rc4.png)\n",
    "---"
   ]
  },
  {
   "cell_type": "markdown",
   "id": "5d3aa896",
   "metadata": {},
   "source": [
    "---\n",
    "## RC4 Example"
   ]
  },
  {
   "cell_type": "code",
   "execution_count": 2,
   "id": "14287e63",
   "metadata": {},
   "outputs": [
    {
     "data": {
      "application/vnd.jupyter.widget-view+json": {
       "model_id": "1d0cef5713ad4acba84e181217d8d073",
       "version_major": 2,
       "version_minor": 0
      },
      "text/plain": [
       "GridBox(children=(Label(value='Key:', layout=Layout(grid_area='key', width='auto')), Text(value='', continuous…"
      ]
     },
     "metadata": {},
     "output_type": "display_data"
    }
   ],
   "source": [
    "from ncdtecbook.isec.rc4 import example_rc4\n",
    "\n",
    "example_rc4()"
   ]
  },
  {
   "cell_type": "markdown",
   "id": "1e98508e",
   "metadata": {},
   "source": [
    "---"
   ]
  },
  {
   "cell_type": "markdown",
   "id": "55ab1e93",
   "metadata": {},
   "source": [
    "## Algorithm and Implementation"
   ]
  },
  {
   "cell_type": "markdown",
   "id": "52cdf429",
   "metadata": {},
   "source": [
    "### Step 1: Key Scheduling Algorithm (KSA)"
   ]
  },
  {
   "cell_type": "code",
   "execution_count": 44,
   "id": "a321db6d",
   "metadata": {},
   "outputs": [],
   "source": [
    "# Step 1: Key Scheduling Algorithm (KSA)\n",
    "def KSA(key, s_length=8):\n",
    "    key_length = len(key)\n",
    "    S = list(range(s_length))  # Initialize S array with 0 to s_length\n",
    "    j = 0\n",
    "    \n",
    "    # Scramble the S array using the key\n",
    "    for i in range(s_length):\n",
    "        j = (j + S[i] + key[i % key_length]) % s_length\n",
    "        S[i], S[j] = S[j], S[i]  # Swap values\n",
    "    \n",
    "    return S"
   ]
  },
  {
   "cell_type": "code",
   "execution_count": null,
   "id": "f3226645",
   "metadata": {},
   "outputs": [],
   "source": [
    "# test KSA function\n",
    "print(KSA(key=[1, 2, 3, 4], s_length=8))"
   ]
  },
  {
   "cell_type": "markdown",
   "id": "b3203853",
   "metadata": {},
   "source": [
    "### Step 2: Pseudo-Random Generation Algorithm (PRGA)\n"
   ]
  },
  {
   "cell_type": "code",
   "execution_count": 25,
   "id": "8a264649",
   "metadata": {},
   "outputs": [],
   "source": [
    "# Step 2: Pseudo-Random Generation Algorithm (PRGA)\n",
    "def PRGA(S):\n",
    "    s_length = len(S)\n",
    "    i = 0\n",
    "    j = 0\n",
    "    while True:\n",
    "        i = (i + 1) % s_length\n",
    "        j = (j + S[i]) % s_length\n",
    "        S[i], S[j] = S[j], S[i]  # Swap values\n",
    "        # Output keystream byte\n",
    "        K = S[(S[i] + S[j]) % s_length]\n",
    "        yield K"
   ]
  },
  {
   "cell_type": "code",
   "execution_count": 26,
   "id": "fd1b0697",
   "metadata": {},
   "outputs": [],
   "source": [
    "# Utility function to convert text to byte array\n",
    "def text_to_bytes(text):\n",
    "    return [ord(char) for char in text]"
   ]
  },
  {
   "cell_type": "markdown",
   "id": "c7649b81",
   "metadata": {},
   "source": [
    "### Step 3: Encryption and Decryption using RC4"
   ]
  },
  {
   "cell_type": "code",
   "execution_count": 27,
   "id": "4b108573",
   "metadata": {},
   "outputs": [],
   "source": [
    "# Step 3: Encryption and Decryption using RC4\n",
    "def RC4(key, plaintext):\n",
    "    S = KSA(key)  # Key Scheduling\n",
    "    keystream = PRGA(S)  # Pseudo-Random Generation\n",
    "    \n",
    "    ciphertext = []\n",
    "    for char in plaintext:\n",
    "        ks_byte = next(keystream)  # Get keystream byte\n",
    "        ciphertext.append(char ^ ks_byte)  # XOR plaintext with keystream\n",
    "    \n",
    "    return ciphertext"
   ]
  },
  {
   "cell_type": "code",
   "execution_count": 22,
   "id": "bdc13122",
   "metadata": {},
   "outputs": [],
   "source": [
    "# Convert back to string (for printing decrypted text)\n",
    "def bytes_to_text(byte_array):\n",
    "    return ''.join(chr(byte) for byte in byte_array)"
   ]
  },
  {
   "cell_type": "markdown",
   "id": "ae915832",
   "metadata": {},
   "source": [
    "### Test RC4:"
   ]
  },
  {
   "cell_type": "code",
   "execution_count": null,
   "id": "d8afaa13",
   "metadata": {},
   "outputs": [],
   "source": [
    "# Test RC4 Encryption and Decryption\n",
    "key = text_to_bytes('secret_key 32-byte key')\n",
    "print('Key in bytes:', key)\n",
    "plaintext = text_to_bytes('Hello, World!')\n",
    "\n",
    "# Encryption\n",
    "ciphertext = RC4(key, plaintext)\n",
    "print('Ciphertext:', ciphertext)\n",
    "print('Encrypted Text:', bytes_to_text(ciphertext))\n",
    "\n",
    "# Decryption (encrypting again will decrypt in RC4)\n",
    "decrypted_text = RC4(key, ciphertext)\n",
    "print('Decrypted Text:', bytes_to_text(decrypted_text))"
   ]
  },
  {
   "cell_type": "markdown",
   "id": "fb569266",
   "metadata": {},
   "source": [
    "### Practice\n",
    "1. Try to encrypt a message using RC4 with a key of your choice.\n",
    "2. Try to decrypt the message using the same key by copying the cipher text and by pasting it back into the plain text box.\n",
    "3. write your notes."
   ]
  }
 ],
 "metadata": {
  "kernelspec": {
   "display_name": ".venv",
   "language": "python",
   "name": "python3"
  },
  "language_info": {
   "codemirror_mode": {
    "name": "ipython",
    "version": 3
   },
   "file_extension": ".py",
   "mimetype": "text/x-python",
   "name": "python",
   "nbconvert_exporter": "python",
   "pygments_lexer": "ipython3",
   "version": "3.12.3"
  }
 },
 "nbformat": 4,
 "nbformat_minor": 5
}
