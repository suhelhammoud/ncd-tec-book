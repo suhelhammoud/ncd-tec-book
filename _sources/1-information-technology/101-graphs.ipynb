{
 "cells": [
  {
   "cell_type": "code",
   "execution_count": null,
   "metadata": {},
   "outputs": [],
   "source": [
    "%pip install ncdtecbook"
   ]
  },
  {
   "cell_type": "markdown",
   "metadata": {},
   "source": [
    "# Graphs in Algorithms\n",
    "\n",
    "A **graph** is a data structure consisting of a set of vertices (nodes) and edges (connections between nodes). Graphs are widely used in various fields such as computer science, transportation networks, and social media.\n",
    "\n",
    "**Types of Graphs:**\n",
    "1. **Undirected Graph**: The edges have no direction.\n",
    "2. **Directed Graph (Digraph)**: The edges have a direction.\n",
    "3. **Weighted Graph**: Each edge has a weight associated with it.\n",
    "\n",
    "In this tutorial, we will explore graph representations and basic graph traversal algorithms, such as Depth First Search (DFS) and Breadth First Search (BFS).\n",
    "\n",
    "---"
   ]
  },
  {
   "cell_type": "markdown",
   "metadata": {},
   "source": [
    "\n",
    "## Graph Representation\n",
    "\n",
    "\n",
    "### Using Adjacency Matrix\n",
    "using adjacency matrix\n",
    "![title](../images/1/weighted_directed_graph.png)"
   ]
  },
  {
   "cell_type": "code",
   "execution_count": null,
   "metadata": {},
   "outputs": [],
   "source": [
    "from ncdtecbook.it.graph import GraphM\n",
    "\n",
    "edges = [(\"A\", \"B\",4), (\"D\", \"A\", 5), (\"B\", \"D\", 1), (\"B\", \"C\", 2), (\"E\", \"D\", 10), (\"C\", \"E\", 8)]\n",
    "\n",
    "gl = GraphM(edges, is_directed=True)    \n",
    "print(gl)"
   ]
  },
  {
   "cell_type": "code",
   "execution_count": null,
   "metadata": {},
   "outputs": [],
   "source": [
    "from ncdtecbook.it.graph import example_dfs\n",
    "\n",
    "example_dfs(gl, 'A')"
   ]
  },
  {
   "cell_type": "markdown",
   "metadata": {},
   "source": [
    "---"
   ]
  },
  {
   "cell_type": "markdown",
   "metadata": {},
   "source": [
    "**Python code implementation:**\n",
    "\n",
    "```python\n",
    "\n",
    "from ncdtecbook.it.graph import _validate_edges, _extract_vertices\n",
    "\n",
    "\n",
    "class GraphM:\n",
    "    \"\"\"Graph implementation using adjacency matrix\"\"\"\n",
    "    \n",
    "    def __init__(self, edges, is_directed=False, vertices = None):\n",
    "        self.edges = _validate_edges(edges)\n",
    "        self.vertices = list(vertices) if vertices else _extract_vertices(edges)\n",
    "        self.n = len(self.vertices)\n",
    "        self.is_directed= is_directed\n",
    "\n",
    "        # Create an adjacency matrix initialized with zeros\n",
    "        self.adj_matrix = [[0] * self.n for _ in range(self.n)]\n",
    "\n",
    "        # Add edges\n",
    "        for edge in self.edges:\n",
    "            vertex1, vertex2, weight = edge\n",
    "            self.add_edge(vertex1, vertex2, weight)\n",
    "        \n",
    "            self.visited = set()\n",
    "\n",
    "\n",
    "    def visit(self,vertex):\n",
    "        if vertex in self.vertices:\n",
    "            self.visited.add(vertex)\n",
    "    \n",
    "\n",
    "    def add_edge(self, vertex1, vertex2, weight):\n",
    "        i = self.vertices.index(vertex1)\n",
    "        j = self.vertices.index(vertex2)\n",
    "        self.adj_matrix[i][j] = weight\n",
    "        if not self.is_directed:\n",
    "          self.adj_matrix[j][i] = weight \n",
    "    \n",
    "\n",
    "    def neighbors_of(self, vertex):\n",
    "        \"\"\" Returns the list of neighbors of the given vertex. \"\"\"\n",
    "        if vertex not in self.vertices:\n",
    "            raise ValueError(f\"Vertex '{vertex}' not found in the graph.\")\n",
    "        \n",
    "        i = self.vertices.index(vertex)\n",
    "        neighbors = []\n",
    "        for j in range(self.n):\n",
    "            if self.adj_matrix[i][j] != 0:  # If there's an edge\n",
    "                neighbors.append((self.vertices[j], self.adj_matrix[i][j]))\n",
    "        \n",
    "        return neighbors\n",
    "    \n",
    "    def __repr__(self):\n",
    "        result = f'\\t   {\"  \".join(self.vertices)}'\n",
    "        for i, row in enumerate(self.adj_matrix):\n",
    "            result+= f'\\n\\t{self.vertices[i]} {row}'\n",
    "        return result + '\\n'\n",
    "    \n",
    "    def __str__(self):\n",
    "        return self.__repr__()\n",
    "    \n",
    "```"
   ]
  },
  {
   "cell_type": "markdown",
   "metadata": {},
   "source": [
    "### Using Adjacency List\n",
    "\n",
    "![adjacency list](../images/1/adjacency_list_graph.png)"
   ]
  },
  {
   "cell_type": "code",
   "execution_count": null,
   "metadata": {},
   "outputs": [],
   "source": [
    "from ncdtecbook.it.graph import GraphL\n",
    "\n",
    "edges = [(\"A\", \"B\",4), (\"D\", \"A\", 5), (\"B\", \"D\", 1), (\"B\", \"C\", 2), (\"E\", \"D\", 10), (\"C\", \"E\", 8)]\n",
    "\n",
    "g = GraphL(edges, is_directed=True)    \n",
    "print(g)"
   ]
  },
  {
   "cell_type": "code",
   "execution_count": null,
   "metadata": {},
   "outputs": [],
   "source": [
    "g = GraphL(edges, is_directed=False)    \n",
    "print(g)"
   ]
  },
  {
   "cell_type": "code",
   "execution_count": null,
   "metadata": {},
   "outputs": [],
   "source": [
    "from ncdtecbook.it.graph import example_bfs\n",
    "\n",
    "example_bfs(g, 'A')"
   ]
  },
  {
   "cell_type": "markdown",
   "metadata": {},
   "source": [
    "**Python code implementation:**\n",
    "```python\n",
    "from ncdtecbook.it.graph import _validate_edges, _extract_vertices\n",
    "\n",
    "\n",
    "class GraphL:\n",
    "    \"\"\"Graph implementation using adjacency list\"\"\"\n",
    "\n",
    "    def __init__(self, edges, is_directed=False, vertices = None):\n",
    "\n",
    "        self.edges = _validate_edges(edges)\n",
    "        self.vertices = list(vertices) if vertices else _extract_vertices(edges)\n",
    "        self.n = len(self.vertices)\n",
    "        self.is_directed= is_directed\n",
    "\n",
    "        self.adj_list = {vertex: [] for vertex in self.vertices}  # empty adjacency list for each vertex\n",
    "\n",
    "        # Add edges\n",
    "        for edge in self.edges:\n",
    "            vertex1, vertex2, weight = edge\n",
    "            self.add_edge(vertex1, vertex2, weight)\n",
    "\n",
    "        self.visited = set()\n",
    "\n",
    "\n",
    "    def visit(self,vertex):\n",
    "        if vertex in self.vertices:\n",
    "            self.visited.add(vertex)\n",
    "            \n",
    "    def add_edge(self, vertex1, vertex2, weight):\n",
    "\n",
    "        self.adj_list[vertex1].append((vertex2, weight))\n",
    "        if not self.is_directed:\n",
    "          self.adj_list[vertex2].append((vertex1, weight))  # For undirected graph; remove for directed graph\n",
    "\n",
    "    def __repr__(self):\n",
    "        result = \"\"\n",
    "        for vertex, edges in self.adj_list.items():\n",
    "            result+= f\"{vertex}: {edges}\\n\"\n",
    "        return result\n",
    "    \n",
    "    def __str__(self):\n",
    "        return self.__repr__()\n",
    "    \n",
    "    \n",
    "    def neighbors_of(self, vertex):\n",
    "        \"\"\" Returns the list of neighbors of the given vertex. \"\"\"\n",
    "        if vertex not in self.adj_list:\n",
    "            raise ValueError(f\"Vertex '{vertex}' not found in the graph.\")\n",
    "        return self.adj_list[vertex]        \n",
    "\n",
    "```"
   ]
  },
  {
   "cell_type": "markdown",
   "metadata": {},
   "source": [
    "---"
   ]
  },
  {
   "cell_type": "markdown",
   "metadata": {},
   "source": [
    "## Graph Traversal\n",
    "\n",
    "### Depth-First Search (DFS)\n",
    "\n",
    "- DFS is a graph traversal algorithm that explores as far as possible along each branch before backtracking.\n",
    "\n",
    "**Code Implementation using recursive function:**\n",
    "```python\n",
    "\n",
    "def dfs(graph, start_vertex, visited=None):\n",
    "    if visited is None:\n",
    "        visited = []  # start with an empty list\n",
    "\n",
    "    # Mark the start vertex as visited\n",
    "    visited.append(start_vertex)\n",
    "\n",
    "    # Use the neighbors_of method to get the neighbors\n",
    "    for neighbor, _ in graph.neighbors_of(start_vertex):\n",
    "        if neighbor not in visited:\n",
    "            dfs(graph, neighbor, visited)\n",
    "\n",
    "    return visited\n",
    "```\n",
    "### Breadth-First Search (BFS)\n",
    "\n",
    "- BFS is a graph traversal algorithm that explores all vertices at the current level before moving on to the next level.\n",
    "\n",
    "**Code Implementation using queue:**\n",
    "```python\n",
    "from collections import deque\n",
    "\n",
    "def bfs(graph, start_vertex):\n",
    "    visited = []  # start with an empty list\n",
    "    queue = deque([start_vertex])  # Use deque for efficient queue operations\n",
    "\n",
    "    while queue:\n",
    "        current_vertex = queue.popleft()  # Get the vertex at the front of the queue\n",
    "        \n",
    "        if current_vertex not in visited:  \n",
    "            visited.append(current_vertex)  # Mark as visited\n",
    "\n",
    "            for neighbor, _ in graph.neighbors_of(current_vertex):\n",
    "                if neighbor not in visited and neighbor not in queue:  # Avoid revisiting\n",
    "                    queue.append(neighbor)  # Add to the queue for future exploration\n",
    "\n",
    "    return visited  \n",
    "```\n",
    "\n"
   ]
  },
  {
   "cell_type": "markdown",
   "metadata": {},
   "source": [
    "## Practice"
   ]
  },
  {
   "cell_type": "markdown",
   "metadata": {},
   "source": [
    "### Example 1"
   ]
  },
  {
   "cell_type": "markdown",
   "metadata": {},
   "source": [
    "1. Define an object of the previous graph\n",
    "2. display the graph\n",
    "3. visualize it\n",
    "4. starting from node 0, traverse the graph using depth-first\n",
    "5. starting from node 0, traverse the graph using breath-first"
   ]
  },
  {
   "cell_type": "markdown",
   "metadata": {},
   "source": [
    "![Practice One](../images/1/graph_practice_1.png)"
   ]
  },
  {
   "cell_type": "code",
   "execution_count": null,
   "metadata": {},
   "outputs": [],
   "source": [
    "# define graph variable from edges\n",
    "# edges = [(), ] ??\n",
    "\n",
    "# graph = ??"
   ]
  },
  {
   "cell_type": "code",
   "execution_count": null,
   "metadata": {},
   "outputs": [],
   "source": [
    "# call dfs function to visit vertices using 'Depth-First' algorithm\n",
    "from ncdtecbook.it.graph import dfs\n",
    "\n"
   ]
  },
  {
   "cell_type": "code",
   "execution_count": null,
   "metadata": {},
   "outputs": [],
   "source": [
    "# visualize graph traverse using dfs\n",
    "\n",
    "from ncdtecbook.it.graph import example_dfs\n",
    "\n",
    "# example_dfs(graph, start_vertex='??')"
   ]
  },
  {
   "cell_type": "code",
   "execution_count": null,
   "metadata": {},
   "outputs": [],
   "source": [
    "# visualize graph traverse using dfs\n",
    "\n",
    "from ncdtecbook.it.graph import example_dfs\n",
    "\n",
    "# example_dfs(graph, start_vertex='??')"
   ]
  },
  {
   "cell_type": "markdown",
   "metadata": {},
   "source": [
    "---"
   ]
  },
  {
   "cell_type": "markdown",
   "metadata": {},
   "source": [
    "### Example 2"
   ]
  },
  {
   "cell_type": "markdown",
   "metadata": {},
   "source": [
    "1. Define an object of the previous graph\n",
    "2. display the graph\n",
    "3. visualize it\n",
    "4. starting from node 0, traverse the graph using depth-first\n",
    "5. starting from node 0, traverse the graph using breath-first"
   ]
  },
  {
   "cell_type": "markdown",
   "metadata": {},
   "source": [
    "![Practice One](../images/1/graph_practice_2.png)"
   ]
  },
  {
   "cell_type": "code",
   "execution_count": null,
   "metadata": {},
   "outputs": [],
   "source": [
    "# define graph variable from edges\n",
    "# edges = [(), ] ??\n",
    "\n",
    "# graph = ??"
   ]
  },
  {
   "cell_type": "code",
   "execution_count": null,
   "metadata": {},
   "outputs": [],
   "source": [
    "# call dfs function to visit vertices using 'Depth-First' algorithm\n",
    "from ncdtecbook.it.graph import bfs\n",
    "\n"
   ]
  },
  {
   "cell_type": "code",
   "execution_count": null,
   "metadata": {},
   "outputs": [],
   "source": [
    "# visualize graph traverse using dfs\n",
    "\n",
    "from ncdtecbook.it.graph import example_bfs\n",
    "\n",
    "# example_bfs(graph, start_vertex='??')"
   ]
  }
 ],
 "metadata": {
  "kernelspec": {
   "display_name": ".venv",
   "language": "python",
   "name": "python3"
  },
  "language_info": {
   "codemirror_mode": {
    "name": "ipython",
    "version": 3
   },
   "file_extension": ".py",
   "mimetype": "text/x-python",
   "name": "python",
   "nbconvert_exporter": "python",
   "pygments_lexer": "ipython3",
   "version": "3.12.3"
  }
 },
 "nbformat": 4,
 "nbformat_minor": 2
}
