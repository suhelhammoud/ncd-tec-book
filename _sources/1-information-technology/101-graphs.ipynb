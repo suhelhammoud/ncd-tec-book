{
 "cells": [
  {
   "cell_type": "markdown",
   "metadata": {},
   "source": [
    "# Graphs in Algorithms\n",
    "\n",
    "A **graph** is a data structure consisting of a set of vertices (nodes) and edges (connections between nodes). Graphs are widely used in various fields such as computer science, transportation networks, and social media.\n",
    "\n",
    "**Types of Graphs:**\n",
    "1. **Undirected Graph**: The edges have no direction.\n",
    "2. **Directed Graph (Digraph)**: The edges have a direction.\n",
    "3. **Weighted Graph**: Each edge has a weight associated with it.\n",
    "\n",
    "In this tutorial, we will explore graph representations and basic graph traversal algorithms, such as Depth First Search (DFS) and Breadth First Search (BFS).\n"
   ]
  },
  {
   "cell_type": "markdown",
   "metadata": {},
   "source": [
    "\n",
    "\n",
    "\n",
    "## Graph Representation\n",
    "\n",
    "### Using Adjacency Matrix\n",
    "using adjacency matrix\n",
    "![title](../images/1/weighted_directed_graph.png)\n",
    "### Using Adjacency List\n",
    "using adjacency lists\n",
    "\n",
    "![adjacency list](../images/1/adjacency_list_graph.png) ![\n"
   ]
  },
  {
   "cell_type": "code",
   "execution_count": 13,
   "metadata": {},
   "outputs": [],
   "source": [
    "def create_adj_matrix(n, edges, is_directed=False):\n",
    "    adj_matrix = [ [0 for i in range(n)] for j in range(n)]\n",
    "    for u, v, *r in edges:\n",
    "        w = 1 if len(r)==0 else r[0]    \n",
    "        adj_matrix[u][v] = w\n",
    "        if not is_directed:\n",
    "            adj_matrix[v][u] = w  # Undirected graph\n",
    "    return adj_matrix\n"
   ]
  },
  {
   "cell_type": "code",
   "execution_count": 14,
   "metadata": {},
   "outputs": [],
   "source": [
    "# Number of nodes\n",
    "n = 5\n",
    "\n",
    "# Create your own edges\n",
    "edges = [(0, 1), (0, 4), (1, 2), (1, 3), (1, 4), (2, 3), (3, 4)]\n",
    "\n",
    "# Generate the matrix interactively\n",
    "adj_matrix = create_adj_matrix(n, edges)"
   ]
  },
  {
   "cell_type": "code",
   "execution_count": 51,
   "metadata": {},
   "outputs": [],
   "source": [
    "%reload_ext autoreload\n"
   ]
  },
  {
   "cell_type": "code",
   "execution_count": null,
   "metadata": {},
   "outputs": [],
   "source": [
    "# add image in markdown\n"
   ]
  },
  {
   "cell_type": "code",
   "execution_count": 15,
   "metadata": {},
   "outputs": [],
   "source": [
    "class GraphM:\n",
    "    def __init__(self, edges, is_directed=False, vertices = None):\n",
    "        self.edges = GraphM._validate_edges(edges)\n",
    "        self.vertices = list(vertices) if vertices else GraphM._extract_vertices(edges)\n",
    "        self.n = len(self.vertices)\n",
    "        self.is_directed= is_directed\n",
    "\n",
    "        # Create an adjacency matrix initialized with zeros\n",
    "        self.adj_matrix = [[0] * self.n for _ in range(self.n)]\n",
    "\n",
    "        # Add edges\n",
    "        for edge in self.edges:\n",
    "            vertex1, vertex2, weight = edge\n",
    "            self.add_edge(vertex1, vertex2, weight)\n",
    "    \n",
    "    def _validate_edges(edges):\n",
    "        result = []\n",
    "        for u, v, *r in edges:\n",
    "            w = r[0] if len(r) > 0 else 1\n",
    "            edge = (u, v, w)\n",
    "            result.append(edge)\n",
    "        return result\n",
    "    \n",
    "    def _extract_vertices(edges):\n",
    "        s = set()\n",
    "        for u, v, *r in edges:\n",
    "            s.add(u)\n",
    "            s.add(v)\n",
    "        return list(s)\n",
    "\n",
    "\n",
    "    def add_edge(self, vertex1, vertex2, weight):\n",
    "        i = self.vertices.index(vertex1)\n",
    "        j = self.vertices.index(vertex2)\n",
    "        self.adj_matrix[i][j] = weight\n",
    "        if not self.is_directed:\n",
    "          self.adj_matrix[j][i] = weight \n",
    "\n",
    "    def __repr__(self):\n",
    "        result = f'\\t   {\"  \".join(self.vertices)}'\n",
    "        for i, row in enumerate(self.adj_matrix):\n",
    "            result+= f'\\n\\t{self.vertices[i]} {row}'\n",
    "        return result + '\\n'\n",
    "    \n",
    "    def __str__(self):\n",
    "        return self.__repr__()"
   ]
  },
  {
   "cell_type": "code",
   "execution_count": 16,
   "metadata": {},
   "outputs": [
    {
     "name": "stdout",
     "output_type": "stream",
     "text": [
      "\t   A  D  B  E  C\n",
      "\tA [0, 5, 4, 0, 0]\n",
      "\tD [5, 0, 1, 10, 0]\n",
      "\tB [4, 1, 0, 0, 2]\n",
      "\tE [0, 10, 0, 0, 8]\n",
      "\tC [0, 0, 2, 8, 0]\n",
      "\n"
     ]
    }
   ],
   "source": [
    "edges = [(\"A\", \"B\",4), (\"D\", \"A\", 5), (\"B\", \"D\", 1), (\"B\", \"C\", 2), (\"E\", \"D\", 10), (\"C\", \"E\", 8)]\n",
    "gm = GraphM(edges, is_directed=False)    \n",
    "print(gm)"
   ]
  },
  {
   "cell_type": "code",
   "execution_count": 79,
   "metadata": {},
   "outputs": [],
   "source": [
    "import matplotlib.pyplot as plt\n",
    "import networkx as nx\n",
    "\n",
    "def display_graph_plot(graph):\n",
    "    G = nx.DiGraph() if graph.is_directed else nx.Graph()\n",
    "\n",
    "    # Add nodes and edges\n",
    "    for i, vertex in enumerate(graph.vertices):\n",
    "        G.add_node(vertex)\n",
    "    \n",
    "    for i, row in enumerate(graph.adj_matrix):\n",
    "        for j, weight in enumerate(row):\n",
    "            if weight != 0:\n",
    "                G.add_edge(graph.vertices[i], graph.vertices[j], weight=weight)\n",
    "\n",
    "    pos = nx.spring_layout(G)\n",
    "    nx.draw(G, pos, with_labels=True, node_color='lightblue', font_weight='bold', node_size=700)\n",
    "    labels = nx.get_edge_attributes(G, 'weight')\n",
    "    nx.draw_networkx_edge_labels(G, pos, edge_labels=labels)\n",
    "    \n",
    "    plt.show()\n"
   ]
  },
  {
   "cell_type": "code",
   "execution_count": 57,
   "metadata": {},
   "outputs": [
    {
     "data": {
      "text/plain": [
       "['__name__',\n",
       " '__loader__',\n",
       " '__spec__',\n",
       " '__package__',\n",
       " '__file__',\n",
       " '__cached__',\n",
       " '__builtins__',\n",
       " 'plt',\n",
       " 'nx',\n",
       " 'display_graph5',\n",
       " 'p']"
      ]
     },
     "execution_count": 57,
     "metadata": {},
     "output_type": "execute_result"
    }
   ],
   "source": [
    "\n",
    "import ncdtecbook.it.graph as ncd\n",
    "ncd.__dir__()"
   ]
  },
  {
   "cell_type": "code",
   "execution_count": 100,
   "metadata": {},
   "outputs": [
    {
     "data": {
      "image/png": "[encoded data removed]",
      "text/plain": [
       "<Figure size 640x480 with 1 Axes>"
      ]
     },
     "metadata": {},
     "output_type": "display_data"
    }
   ],
   "source": [
    "display_graph_plot(gm)"
   ]
  }
 ],
 "metadata": {
  "kernelspec": {
   "display_name": ".venv",
   "language": "python",
   "name": "python3"
  },
  "language_info": {
   "codemirror_mode": {
    "name": "ipython",
    "version": 3
   },
   "file_extension": ".py",
   "mimetype": "text/x-python",
   "name": "python",
   "nbconvert_exporter": "python",
   "pygments_lexer": "ipython3",
   "version": "3.12.3"
  }
 },
 "nbformat": 4,
 "nbformat_minor": 2
}
