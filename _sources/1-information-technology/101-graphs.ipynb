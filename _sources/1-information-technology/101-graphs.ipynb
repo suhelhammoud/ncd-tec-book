{
 "cells": [
  {
   "cell_type": "code",
   "execution_count": null,
   "metadata": {},
   "outputs": [],
   "source": [
    "%pip install ncdtecbook"
   ]
  },
  {
   "cell_type": "markdown",
   "metadata": {},
   "source": [
    "# Graphs in Algorithms\n",
    "\n",
    "A **graph** is a data structure consisting of a set of vertices (nodes) and edges (connections between nodes). Graphs are widely used in various fields such as computer science, transportation networks, and social media.\n",
    "\n",
    "**Types of Graphs:**\n",
    "1. **Undirected Graph**: The edges have no direction.\n",
    "2. **Directed Graph (Digraph)**: The edges have a direction.\n",
    "3. **Weighted Graph**: Each edge has a weight associated with it.\n",
    "\n",
    "In this tutorial, we will explore graph representations and basic graph traversal algorithms, such as Depth First Search (DFS) and Breadth First Search (BFS).\n"
   ]
  },
  {
   "cell_type": "markdown",
   "metadata": {},
   "source": [
    "\n",
    "## Graph Representation\n",
    "\n",
    "### Using Adjacency Matrix\n",
    "using adjacency matrix\n",
    "![title](../images/1/weighted_directed_graph.png)\n",
    "### Using Adjacency List\n",
    "using adjacency lists\n",
    "\n",
    "![adjacency list](../images/1/adjacency_list_graph.png)"
   ]
  },
  {
   "cell_type": "code",
   "execution_count": 8,
   "metadata": {},
   "outputs": [
    {
     "name": "stdout",
     "output_type": "stream",
     "text": [
      "\t   A  C  D  E  B\n",
      "\tA [0, 0, 0, 0, 4]\n",
      "\tC [0, 0, 0, 8, 0]\n",
      "\tD [5, 0, 0, 0, 0]\n",
      "\tE [0, 0, 10, 0, 0]\n",
      "\tB [0, 2, 1, 0, 0]\n",
      "\n"
     ]
    }
   ],
   "source": [
    "from ncdtecbook.it.graph import GraphM\n",
    "\n",
    "edges = [(\"A\", \"B\",4), (\"D\", \"A\", 5), (\"B\", \"D\", 1), (\"B\", \"C\", 2), (\"E\", \"D\", 10), (\"C\", \"E\", 8)]\n",
    "\n",
    "gl = GraphM(edges, is_directed=True)    \n",
    "print(gl)"
   ]
  },
  {
   "cell_type": "markdown",
   "metadata": {},
   "source": [
    "```{note}\n",
    "Here is a note\n",
    "```"
   ]
  },
  {
   "cell_type": "markdown",
   "metadata": {},
   "source": [
    "```python\n",
    "\n",
    "from ncdtecbook.it.graph import _validate_edges, _extract_vertices\n",
    "\n",
    "class GraphM:\n",
    "    \n",
    "    def __init__(self, edges, is_directed=False, vertices = None):\n",
    "        self.edges = _validate_edges(edges)\n",
    "        self.vertices = list(vertices) if vertices else _extract_vertices(edges)\n",
    "        self.n = len(self.vertices)\n",
    "        self.is_directed= is_directed\n",
    "\n",
    "        # Create an adjacency matrix initialized with zeros\n",
    "        self.adj_matrix = [[0] * self.n for _ in range(self.n)]\n",
    "\n",
    "        # Add edges\n",
    "        for edge in self.edges:\n",
    "            vertex1, vertex2, weight = edge\n",
    "            self.add_edge(vertex1, vertex2, weight)\n",
    "        \n",
    "            self.visited = set()\n",
    "\n",
    "\n",
    "    def visit(self,vertex):\n",
    "        if vertex in self.vertices:\n",
    "            self.visited.add(vertex)\n",
    "    \n",
    "\n",
    "    def add_edge(self, vertex1, vertex2, weight):\n",
    "        i = self.vertices.index(vertex1)\n",
    "        j = self.vertices.index(vertex2)\n",
    "        self.adj_matrix[i][j] = weight\n",
    "        if not self.is_directed:\n",
    "          self.adj_matrix[j][i] = weight \n",
    "\n",
    "    def __repr__(self):\n",
    "        result = f'\\t   {\"  \".join(self.vertices)}'\n",
    "        for i, row in enumerate(self.adj_matrix):\n",
    "            result+= f'\\n\\t{self.vertices[i]} {row}'\n",
    "        return result + '\\n'\n",
    "    \n",
    "    def __str__(self):\n",
    "        return self.__repr__()\n",
    "```"
   ]
  },
  {
   "cell_type": "code",
   "execution_count": null,
   "metadata": {},
   "outputs": [],
   "source": []
  },
  {
   "cell_type": "code",
   "execution_count": 4,
   "metadata": {},
   "outputs": [],
   "source": [
    "\n",
    "\n",
    "class GraphL:\n",
    "    \n",
    "    def _validate_edges(edges):\n",
    "        result = []\n",
    "        for u, v, *r in edges:\n",
    "            w = r[0] if len(r) > 0 else 1\n",
    "            edge = (u, v, w)\n",
    "            result.append(edge)\n",
    "        return result\n",
    "    \n",
    "    def _extract_vertices(edges):\n",
    "        s = set()\n",
    "        for u, v, *r in edges:\n",
    "            s.add(u)\n",
    "            s.add(v)\n",
    "        return list(s)\n",
    "    \n",
    "    def __init__(self, edges, is_directed=False, vertices = None):\n",
    "        \"\"\"\n",
    "        Initializes the graph with a list of vertices and a list of edges.\n",
    "        :param vertices: List of vertices (strings)\n",
    "        :param edges: List of tuples (vertex1, vertex2, weight)\n",
    "        \"\"\"\n",
    "        self.edges = GraphL._validate_edges(edges)\n",
    "        self.vertices = list(vertices) if vertices else GraphL._extract_vertices(edges)\n",
    "        self.n = len(self.vertices)\n",
    "        self.is_directed= is_directed\n",
    "\n",
    "        self.adj_list = {vertex: [] for vertex in self.vertices}  # empty adjacency list for each vertex\n",
    "\n",
    "        # Add edges\n",
    "        for edge in self.edges:\n",
    "            vertex1, vertex2, weight = edge\n",
    "            self.add_edge(vertex1, vertex2, weight)\n",
    "\n",
    "        self.visited = set()\n",
    "\n",
    "\n",
    "    def visit(self,vertex):\n",
    "        if vertex in self.vertices:\n",
    "            self.visited.add(vertex)\n",
    "            \n",
    "    def add_edge(self, vertex1, vertex2, weight):\n",
    "\n",
    "        self.adj_list[vertex1].append((vertex2, weight))\n",
    "        if not self.is_directed:\n",
    "          self.adj_list[vertex2].append((vertex1, weight))  # For undirected graph; remove for directed graph\n",
    "\n",
    "    def __repr__(self):\n",
    "        result = \"\"\n",
    "        for vertex, edges in self.adj_list.items():\n",
    "            result+= f\"{vertex}: {edges}\\n\"\n",
    "        return result\n",
    "    \n",
    "    def __str__(self):\n",
    "        return self.__repr__()\n",
    "        \n",
    "\n"
   ]
  },
  {
   "cell_type": "code",
   "execution_count": null,
   "metadata": {},
   "outputs": [],
   "source": [
    "edges = [(\"A\", \"B\",4), (\"D\", \"A\", 5), (\"B\", \"D\", 1), (\"B\", \"C\", 2), (\"E\", \"D\", 10), (\"C\", \"E\", 8)]\n",
    "gl = GraphL(edges, is_directed=True)    \n",
    "print(gl)"
   ]
  },
  {
   "cell_type": "code",
   "execution_count": null,
   "metadata": {},
   "outputs": [],
   "source": [
    "from ncdtecbook.it.graph import display_graph\n",
    "gl.visit('A')\n",
    "gl.visit('B')\n",
    "print(gl.visited)\n",
    "display_graph(gl)"
   ]
  },
  {
   "cell_type": "code",
   "execution_count": 1,
   "metadata": {},
   "outputs": [],
   "source": []
  },
  {
   "cell_type": "code",
   "execution_count": null,
   "metadata": {},
   "outputs": [],
   "source": []
  },
  {
   "cell_type": "code",
   "execution_count": null,
   "metadata": {},
   "outputs": [],
   "source": [
    "edges = [(\"A\", \"B\",4), (\"D\", \"A\", 5), (\"B\", \"D\", 1), (\"B\", \"C\", 2), (\"E\", \"D\", 10), (\"C\", \"E\", 8)]\n",
    "gm = GraphM(edges, is_directed=True)    \n",
    "print(gm)"
   ]
  },
  {
   "cell_type": "code",
   "execution_count": null,
   "metadata": {},
   "outputs": [],
   "source": [
    "import ncdtecbook.it.graph as g\n",
    "gm.visit('A')\n",
    "gm.visit('B')\n",
    "\n",
    "print(gm.visited)\n",
    "\n",
    "g.display_graph(gm)\n"
   ]
  },
  {
   "cell_type": "code",
   "execution_count": 3,
   "metadata": {},
   "outputs": [
    {
     "data": {
      "application/vnd.jupyter.widget-view+json": {
       "model_id": "f9dcffb99f85410cb6e9deebf36d59e5",
       "version_major": 2,
       "version_minor": 0
      },
      "text/plain": [
       "IntSlider(value=5, continuous_update=False, description='Traversal Step:', max=5)"
      ]
     },
     "metadata": {},
     "output_type": "display_data"
    },
    {
     "name": "stdout",
     "output_type": "stream",
     "text": [
      "type = GraphM\n"
     ]
    },
    {
     "data": {
      "image/png": "[encoded data removed]",
      "text/plain": [
       "<Figure size 640x480 with 1 Axes>"
      ]
     },
     "metadata": {},
     "output_type": "display_data"
    }
   ],
   "source": [
    "from ncdtecbook.it.graph import example_dfs, dfs, GraphM\n",
    "\n",
    "edges = [(\"A\", \"B\",4), (\"D\", \"A\", 5), (\"B\", \"D\", 1), (\"B\", \"C\", 2), (\"E\", \"D\", 10), (\"C\", \"E\", 8)]\n",
    "g = GraphM(edges, is_directed=False)    \n",
    "\n",
    "tlist = dfs(g, 'A')\n",
    "\n",
    "print(tlist)\n",
    "example_dfs(g, 'A' )"
   ]
  },
  {
   "cell_type": "code",
   "execution_count": null,
   "metadata": {},
   "outputs": [],
   "source": []
  }
 ],
 "metadata": {
  "kernelspec": {
   "display_name": ".venv",
   "language": "python",
   "name": "python3"
  },
  "language_info": {
   "codemirror_mode": {
    "name": "ipython",
    "version": 3
   },
   "file_extension": ".py",
   "mimetype": "text/x-python",
   "name": "python",
   "nbconvert_exporter": "python",
   "pygments_lexer": "ipython3",
   "version": "3.12.3"
  }
 },
 "nbformat": 4,
 "nbformat_minor": 2
}
